{
  "nbformat": 4,
  "nbformat_minor": 0,
  "metadata": {
    "colab": {
      "name": "Unit1 Sprint 4 Linear Algebra Study Guide.ipynb",
      "version": "0.3.2",
      "provenance": [],
      "collapsed_sections": [
        "NC4zZn6MO-p_",
        "sWXAmo9aPD0F",
        "5t4QgAFEPH45",
        "uyziZdThPILV",
        "-qe0wSRCPR4Q",
        "TzfCjxIMPR9_",
        "ImbZ71AqPSDI",
        "dqiAuOc8PdSM",
        "TpCv6FbPPdZG"
      ],
      "include_colab_link": true
    },
    "kernelspec": {
      "name": "python3",
      "display_name": "Python 3"
    }
  },
  "cells": [
    {
      "cell_type": "markdown",
      "metadata": {
        "id": "view-in-github",
        "colab_type": "text"
      },
      "source": [
        "<a href=\"https://colab.research.google.com/github/adamlutzz/DS-Unit-1-Sprint-4-Linear-Algebra/blob/master/Unit1_Sprint_4_Linear_Algebra_Study_Guide.ipynb\" target=\"_parent\"><img src=\"https://colab.research.google.com/assets/colab-badge.svg\" alt=\"Open In Colab\"/></a>"
      ]
    },
    {
      "cell_type": "markdown",
      "metadata": {
        "id": "SiGPMXYDOvqR",
        "colab_type": "text"
      },
      "source": [
        "   ## Student should be able to Explain why we care about linear algebra in the scope of data science"
      ]
    },
    {
      "cell_type": "markdown",
      "metadata": {
        "id": "X0CCkzguO43v",
        "colab_type": "text"
      },
      "source": [
        "Linear Algebra allows us to view a dataframe in a more robust manner. Instead of viewing a dataframe as an excel spreadsheet, linear algebra allows us to view a dataframe as a set of coordinates on a multi-dimensional plane. It allows make linear combinations of features to better explain relationships between features. "
      ]
    },
    {
      "cell_type": "markdown",
      "metadata": {
        "id": "SrsWunqOO5Yk",
        "colab_type": "text"
      },
      "source": [
        "## Student should be able to visualize orthogonal projections in R^2 as being the \"shadow\" of a vector onto a subspace at a right angle"
      ]
    },
    {
      "cell_type": "code",
      "metadata": {
        "id": "83DcqJxbQ_jG",
        "colab_type": "code",
        "colab": {}
      },
      "source": [
        "import numpy as np\n",
        "import matplotlib.pyplot as plt"
      ],
      "execution_count": 0,
      "outputs": []
    },
    {
      "cell_type": "code",
      "metadata": {
        "id": "kLdaSSStQ8UR",
        "colab_type": "code",
        "colab": {
          "base_uri": "https://localhost:8080/",
          "height": 34
        },
        "outputId": "4f76d68e-7825-4dea-a86c-f6b7e21df8fb"
      },
      "source": [
        "v = np.array([1,3]) \n",
        "w = np.array([-1,2])\n",
        "\n",
        "c_thing = np.dot(w,v) / np.dot(v,v)\n",
        "ans = np.multiply(c_thing, v)\n",
        "ans"
      ],
      "execution_count": 2,
      "outputs": [
        {
          "output_type": "execute_result",
          "data": {
            "text/plain": [
              "array([0.5, 1.5])"
            ]
          },
          "metadata": {
            "tags": []
          },
          "execution_count": 2
        }
      ]
    },
    {
      "cell_type": "code",
      "metadata": {
        "id": "KnwLEFCTRFiD",
        "colab_type": "code",
        "colab": {
          "base_uri": "https://localhost:8080/",
          "height": 281
        },
        "outputId": "25813608-0749-4404-e36f-b9360687e598"
      },
      "source": [
        "# Plot a line\n",
        "\n",
        "# Axis Bounds\n",
        "plt.xlim(-2.1,4)          \n",
        "plt.ylim(-2.1,4)\n",
        "\n",
        "proj = [0.5, 1.5]\n",
        "\n",
        "# Get Vals for L\n",
        "axes = plt.gca()\n",
        "x_vals = np.array(axes.get_xlim())\n",
        "y_vals = 3*x_vals\n",
        "\n",
        "# Plot Vectors and L\n",
        "plt.plot(x_vals, y_vals, '--', color='b', linewidth=1)\n",
        "plt.arrow(0, 0, v[0], v[1], linewidth=3, head_width=.05, head_length=0.05, color ='green')\n",
        "plt.arrow(0, 0, proj[0], proj[1], linewidth=3, head_width=.05, head_length=0.05, color ='grey')\n",
        "plt.arrow(0, 0, w[0], w[1], linewidth=3, head_width=.05, head_length=0.05, color ='red')\n",
        "\n",
        "plt.title(\"Shadow of w\")\n",
        "plt.show()"
      ],
      "execution_count": 3,
      "outputs": [
        {
          "output_type": "display_data",
          "data": {
            "image/png": "[encoded data removed]",
            "text/plain": [
              "<Figure size 432x288 with 1 Axes>"
            ]
          },
          "metadata": {
            "tags": []
          }
        }
      ]
    },
    {
      "cell_type": "markdown",
      "metadata": {
        "id": "bDSMxZorPCy4",
        "colab_type": "text"
      },
      "source": [
        ""
      ]
    },
    {
      "cell_type": "markdown",
      "metadata": {
        "id": "NC4zZn6MO-p_",
        "colab_type": "text"
      },
      "source": [
        "## Student should be able to Understand the differences in standardization between variance and standard deviation as well as covariance and correlation in preparation for learning about variance-covariance matrices"
      ]
    },
    {
      "cell_type": "markdown",
      "metadata": {
        "id": "3aQHMRfrPDOa",
        "colab_type": "text"
      },
      "source": [
        ""
      ]
    },
    {
      "cell_type": "markdown",
      "metadata": {
        "id": "sWXAmo9aPD0F",
        "colab_type": "text"
      },
      "source": [
        "## Student should be able to Show when two vectors/matrices are orthogonal and explain the intuitive implications of orthogonality"
      ]
    },
    {
      "cell_type": "markdown",
      "metadata": {
        "id": "6zM4uGbvPHla",
        "colab_type": "text"
      },
      "source": [
        ""
      ]
    },
    {
      "cell_type": "markdown",
      "metadata": {
        "id": "5t4QgAFEPH45",
        "colab_type": "text"
      },
      "source": [
        "## Student should be able to rewrite any vector as a linear combination of scalars and unit vectors, give the definition for what makes a vector a \"unit\" vector and learn how to turn any vector into a unit vector"
      ]
    },
    {
      "cell_type": "markdown",
      "metadata": {
        "id": "zmN7run9PICy",
        "colab_type": "text"
      },
      "source": [
        ""
      ]
    },
    {
      "cell_type": "markdown",
      "metadata": {
        "id": "uyziZdThPILV",
        "colab_type": "text"
      },
      "source": [
        "## Student should be able to identify the space spanned by multiple vectors by learning to identify linearly dependent vectors in both their graphical and numeric representations"
      ]
    },
    {
      "cell_type": "markdown",
      "metadata": {
        "id": "tmJRxC36PRl2",
        "colab_type": "text"
      },
      "source": [
        ""
      ]
    },
    {
      "cell_type": "markdown",
      "metadata": {
        "id": "-qe0wSRCPR4Q",
        "colab_type": "text"
      },
      "source": [
        "## Student should be able to calculate the rank of a matrix and use it to determine the span and basis for the vectors that the matrix is composed of"
      ]
    },
    {
      "cell_type": "markdown",
      "metadata": {
        "id": "H3oBEEttPR7L",
        "colab_type": "text"
      },
      "source": [
        ""
      ]
    },
    {
      "cell_type": "markdown",
      "metadata": {
        "id": "TzfCjxIMPR9_",
        "colab_type": "text"
      },
      "source": [
        "## Student should be able to Recognize high dimensionality data, and can employ PCA to improve model performance"
      ]
    },
    {
      "cell_type": "markdown",
      "metadata": {
        "id": "XIaY-Wk9PSAc",
        "colab_type": "text"
      },
      "source": [
        ""
      ]
    },
    {
      "cell_type": "markdown",
      "metadata": {
        "id": "ImbZ71AqPSDI",
        "colab_type": "text"
      },
      "source": [
        "## Student should be able to Understand the limitations that come with projecting data onto an eigenvector subspace"
      ]
    },
    {
      "cell_type": "markdown",
      "metadata": {
        "id": "DG7MqUvIPSFV",
        "colab_type": "text"
      },
      "source": [
        ""
      ]
    },
    {
      "cell_type": "markdown",
      "metadata": {
        "id": "dqiAuOc8PdSM",
        "colab_type": "text"
      },
      "source": [
        "## Student should be able to Recognize when unsupervised learning is necessary, and select and apply appropriate clustering techniques"
      ]
    },
    {
      "cell_type": "markdown",
      "metadata": {
        "id": "1F9lHB7HPdV6",
        "colab_type": "text"
      },
      "source": [
        ""
      ]
    },
    {
      "cell_type": "markdown",
      "metadata": {
        "id": "TpCv6FbPPdZG",
        "colab_type": "text"
      },
      "source": [
        "## Student should be able to Use K-Means clustering and other centroid-based clustering algorithms"
      ]
    },
    {
      "cell_type": "markdown",
      "metadata": {
        "id": "M8ufVrMUPdbM",
        "colab_type": "text"
      },
      "source": [
        ""
      ]
    }
  ]
}