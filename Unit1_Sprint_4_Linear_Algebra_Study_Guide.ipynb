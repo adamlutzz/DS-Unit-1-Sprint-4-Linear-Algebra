{
  "nbformat": 4,
  "nbformat_minor": 0,
  "metadata": {
    "colab": {
      "name": "Unit1 Sprint 4 Linear Algebra Study Guide.ipynb",
      "version": "0.3.2",
      "provenance": [],
      "collapsed_sections": [
        "NC4zZn6MO-p_",
        "sWXAmo9aPD0F",
        "5t4QgAFEPH45",
        "uyziZdThPILV",
        "-qe0wSRCPR4Q",
        "TzfCjxIMPR9_",
        "ImbZ71AqPSDI",
        "dqiAuOc8PdSM",
        "TpCv6FbPPdZG"
      ],
      "include_colab_link": true
    },
    "kernelspec": {
      "name": "python3",
      "display_name": "Python 3"
    }
  },
  "cells": [
    {
      "cell_type": "markdown",
      "metadata": {
        "id": "view-in-github",
        "colab_type": "text"
      },
      "source": [
        "<a href=\"https://colab.research.google.com/github/adamlutzz/DS-Unit-1-Sprint-4-Linear-Algebra/blob/master/Unit1_Sprint_4_Linear_Algebra_Study_Guide.ipynb\" target=\"_parent\"><img src=\"https://colab.research.google.com/assets/colab-badge.svg\" alt=\"Open In Colab\"/></a>"
      ]
    },
    {
      "cell_type": "markdown",
      "metadata": {
        "id": "SiGPMXYDOvqR",
        "colab_type": "text"
      },
      "source": [
        "   ## Student should be able to Explain why we care about linear algebra in the scope of data science"
      ]
    },
    {
      "cell_type": "markdown",
      "metadata": {
        "id": "X0CCkzguO43v",
        "colab_type": "text"
      },
      "source": [
        "Linear Algebra allows us to view a dataframe in a more robust manner. Instead of viewing a dataframe as an excel spreadsheet, linear algebra allows us to view a dataframe as a set of coordinates on a multi-dimensional plane. It allows make linear combinations of features to better explain relationships between features. "
      ]
    },
    {
      "cell_type": "markdown",
      "metadata": {
        "id": "SrsWunqOO5Yk",
        "colab_type": "text"
      },
      "source": [
        "## Student should be able to visualize orthogonal projections in R^2 as being the \"shadow\" of a vector onto a subspace at a right angle"
      ]
    },
    {
      "cell_type": "code",
      "metadata": {
        "id": "83DcqJxbQ_jG",
        "colab_type": "code",
        "colab": {}
      },
      "source": [
        "import numpy as np\n",
        "import matplotlib.pyplot as plt"
      ],
      "execution_count": 0,
      "outputs": []
    },
    {
      "cell_type": "code",
      "metadata": {
        "id": "kLdaSSStQ8UR",
        "colab_type": "code",
        "colab": {
          "base_uri": "https://localhost:8080/",
          "height": 34
        },
        "outputId": "4f76d68e-7825-4dea-a86c-f6b7e21df8fb"
      },
      "source": [
        "v = np.array([1,3]) \n",
        "w = np.array([-1,2])\n",
        "\n",
        "c_thing = np.dot(w,v) / np.dot(v,v)\n",
        "ans = np.multiply(c_thing, v)\n",
        "ans"
      ],
      "execution_count": 2,
      "outputs": [
        {
          "output_type": "execute_result",
          "data": {
            "text/plain": [
              "array([0.5, 1.5])"
            ]
          },
          "metadata": {
            "tags": []
          },
          "execution_count": 2
        }
      ]
    },
    {
      "cell_type": "code",
      "metadata": {
        "id": "KnwLEFCTRFiD",
        "colab_type": "code",
        "colab": {
          "base_uri": "https://localhost:8080/",
          "height": 283
        },
        "outputId": "79009d2d-0268-4b80-c83f-32bc31f6cc7f"
      },
      "source": [
        "# Plot a line\n",
        "\n",
        "# Axis Bounds\n",
        "plt.xlim(-2.1,4)          \n",
        "plt.ylim(-2.1,4)\n",
        "\n",
        "proj = [0.5, 1.5]\n",
        "\n",
        "# Get Vals for L\n",
        "axes = plt.gca()\n",
        "x_vals = np.array(axes.get_xlim())\n",
        "y_vals = 3*x_vals\n",
        "\n",
        "# Plot Vectors and L\n",
        "plt.plot(x_vals, y_vals, '--', color='b', linewidth=1)\n",
        "plt.arrow(0, 0, v[0], v[1], linewidth=3, head_width=.05, head_length=0.05, color ='g')\n",
        "plt.arrow(0, 0, proj[0], proj[1], linewidth=3, head_width=.05, head_length=0.05, color ='k')\n",
        "plt.arrow(0, 0, w[0], w[1], linewidth=3, head_width=.05, head_length=0.05, color ='r')\n",
        "\n",
        "plt.title(\"Shadow of w\", fontsize=15, color='w')\n",
        "plt.show()"
      ],
      "execution_count": 11,
      "outputs": [
        {
          "output_type": "display_data",
          "data": {
            "image/png": "[encoded data removed]",
            "text/plain": [
              "<Figure size 432x288 with 1 Axes>"
            ]
          },
          "metadata": {
            "tags": []
          }
        }
      ]
    },
    {
      "cell_type": "markdown",
      "metadata": {
        "id": "NC4zZn6MO-p_",
        "colab_type": "text"
      },
      "source": [
        "## Student should be able to Understand the differences in standardization between variance and standard deviation as well as covariance and correlation in preparation for learning about variance-covariance matrices"
      ]
    },
    {
      "cell_type": "markdown",
      "metadata": {
        "id": "3aQHMRfrPDOa",
        "colab_type": "text"
      },
      "source": [
        "<sub>*From Michael Bundick's 'Linear Algebra Cheat Sheet'*<sub/>\n",
        "### Variance\n",
        "\n",
        "Variance is a measure of the spread of numbers in a dataset. Variance is the average of the squared differences from the mean. \n",
        "\n",
        "$\\overline{X}$ is the mean of the dataset.\n",
        "\n",
        "$N$ is the total number of observations.\n",
        "\n",
        "$v$ or variance is sometimes denoted by a lowercase v or $\\sigma^{2}$.\n",
        "\n",
        "\\begin{align}\n",
        "v = \\frac{\\sum{(X_{i} - \\overline{X})^{2}} }{N}\n",
        "\\end{align}"
      ]
    },
    {
      "cell_type": "markdown",
      "metadata": {
        "id": "OL2vHhu3UGo3",
        "colab_type": "text"
      },
      "source": [
        "<sub>*From Michael Bundick's 'Linear Algebra Cheat Sheet'*<sub/>\n",
        "\n",
        "### Standard Deviation\n",
        "The standard deviation is $\\sqrt(variance)$\n",
        "\n",
        "### So why would we use one over the other?\n",
        "\n",
        "Taking the square root of the variance will put the measurement back in the same units as the mean. The Standard Deviation is the average distance from the mean."
      ]
    },
    {
      "cell_type": "code",
      "metadata": {
        "id": "8dQ7n6OYTPi7",
        "colab_type": "code",
        "colab": {}
      },
      "source": [
        "def MeVarStd(array):\n",
        "  '''This function calculates the Mean, Varience, and Standard Deviation of an array'''\n",
        "  \n",
        "  # Gather necessary values  \n",
        "  mean = sum(array) / len(array)\n",
        "  observations = len(array)\n",
        "  dist_sq = []\n",
        "  \n",
        "  # for loop to fill dist_sq  \n",
        "  for i in array:   \n",
        "    dist_sq.append((i - mean)**2)\n",
        "  \n",
        "  # Calculate Varience and Std   \n",
        "  varience = sum(dist_sq)/observations\n",
        "  std = varience**.5\n",
        "  \n",
        "  # Output  \n",
        "  print('Mean: ', f'{mean:.5f}')\n",
        "  print('Varience: ', f'{varience:.5f}')\n",
        "  print('Standard of Deviation: ', f'{std:.5f}')"
      ],
      "execution_count": 0,
      "outputs": []
    },
    {
      "cell_type": "markdown",
      "metadata": {
        "id": "kQ38MnMaUpTc",
        "colab_type": "text"
      },
      "source": [
        "<sub>*From Michael Bundick's 'Linear Algebra Cheat Sheet'*<sub/>\n",
        "### Correlation Coefficient\n",
        "\n",
        "The measure of spread of a variable is the Standard Deviation. If we divide our covariance values by the product of the standard deviations of the two variables, we'll end up with what's called the Correlation Coefficient. \n",
        "\n",
        "Correlation Coefficients have a fixed range from -1 to +1 with 0 representing no linear relationship between the data. \n",
        "\n",
        "In most use cases the correlation coefficient is an improvement over measures of covariance because:\n",
        "\n",
        "- Covariance can take on practically any number while a correlation is limited: -1 to +1.\n",
        "- Because of it’s numerical limitations, correlation is more useful for determining how strong the relationship is between the two variables.\n",
        "- Correlation does not have units. Covariance always has units\n",
        "- Correlation isn’t affected by changes in the center (i.e. mean) or scale of the variables\n",
        "\n",
        "[Statistics How To - Covariance](https://www.statisticshowto.datasciencecentral.com/covariance/)\n",
        "\n",
        "The correlation coefficient is usually represented by a lower case $r$.\n",
        "\n",
        "\\begin{align}\n",
        "r = \\frac{cov(X,Y)}{\\sigma_{X}\\sigma_{Y}}\n",
        "\\end{align}"
      ]
    },
    {
      "cell_type": "markdown",
      "metadata": {
        "id": "sWXAmo9aPD0F",
        "colab_type": "text"
      },
      "source": [
        "## Student should be able to Show when two vectors/matrices are orthogonal and explain the intuitive implications of orthogonality"
      ]
    },
    {
      "cell_type": "markdown",
      "metadata": {
        "id": "bDSMxZorPCy4",
        "colab_type": "text"
      },
      "source": [
        "<sub>*From Michael Bundick's 'Linear Algebra Cheat Sheet'*<sub/>\n",
        "### Orthogonality\n",
        "\n",
        "Orthogonality is another word for \"perpendicularity\". Two vectors or matrices that are perpendicular to one another are orthogonal.\n",
        "\n",
        "### How to tell if two vectors are orthogonal\n",
        "\n",
        "Two vectors are orthogonal to each other if their dot product is zero. "
      ]
    },
    {
      "cell_type": "code",
      "metadata": {
        "id": "Uj966M62VLkS",
        "colab_type": "code",
        "colab": {
          "base_uri": "https://localhost:8080/",
          "height": 300
        },
        "outputId": "bb8c8ab8-435d-41ee-a834-28773e7bb902"
      },
      "source": [
        "# plots are my own\n",
        "v1 = [2,1]\n",
        "v2 = [-1, 2]\n",
        "\n",
        "# Plot the Scaled Vectors\n",
        "plt.arrow(0,0, v1[0], v1[1],head_width=.05, head_length=0.05, color ='red')\n",
        "plt.arrow(0,0, v2[0], v2[1],head_width=.05, head_length=0.05, color ='green')\n",
        "plt.xlim(-2,3)          \n",
        "plt.ylim(-1,3)\n",
        "plt.title(\"Orthogonal Vectors\", fontsize=15, color='w')\n",
        "plt.show()\n",
        "\n",
        "# These are Orthogonal Vectors or Perpendicular Vectors\n",
        "\n",
        "print('Dot product for v1, v2:', v1[0]*v2[0] + v1[1]*v2[1])"
      ],
      "execution_count": 6,
      "outputs": [
        {
          "output_type": "display_data",
          "data": {
            "image/png": "[encoded data removed]",
            "text/plain": [
              "<Figure size 432x288 with 1 Axes>"
            ]
          },
          "metadata": {
            "tags": []
          }
        },
        {
          "output_type": "stream",
          "text": [
            "Dot product for v1, v2: 0\n"
          ],
          "name": "stdout"
        }
      ]
    },
    {
      "cell_type": "markdown",
      "metadata": {
        "id": "5t4QgAFEPH45",
        "colab_type": "text"
      },
      "source": [
        "## Student should be able to rewrite any vector as a linear combination of scalars and unit vectors, give the definition for what makes a vector a \"unit\" vector and learn how to turn any vector into a unit vector"
      ]
    },
    {
      "cell_type": "markdown",
      "metadata": {
        "id": "zmN7run9PICy",
        "colab_type": "text"
      },
      "source": [
        "<sub>*From Michael Bundick's 'Linear Algebra Cheat Sheet'*<sub/>\n",
        "### Unit Vectors\n",
        "\n",
        "\n",
        "A unit vector is any vector of \"unit length\" (1). You can turn any non-zero vector into a unit vector by dividing it by its norm (length/magnitude). Unit vectors are denoted by the hat symbol \"^\" above the variable.\n",
        "\n",
        "Example:\n",
        "\n",
        "\\begin{align}\n",
        " b = \\begin{bmatrix} 1 \\\\ 2 \\\\  2 \\end{bmatrix}\n",
        "\\end{align}\n",
        "\n",
        "Find the norm\n",
        " \n",
        " \\begin{align}\n",
        " ||b|| = \\sqrt{1^2 + 2^2 + 2^2} = \\sqrt{1 + 4 + 4} = \\sqrt{9} = 3\n",
        "\\end{align}\n",
        "\n",
        "Turn b into a unit vector by dividing it by its norm.\n",
        "\n",
        " \\begin{align}\n",
        " \\hat{b} = \\frac{1}{||b||}b = \\frac{1}{3}\\begin{bmatrix} 1 \\\\ 2 \\\\  2 \\end{bmatrix} = \\begin{bmatrix} \\frac{1}{3} \\\\ \\frac{2}{3} \\\\  \\frac{2}{3} \\end{bmatrix}\n",
        "\\end{align}\n",
        "\n",
        "You might frequently see mentioned the unit vectors used to denote a certain dimensional space. \n",
        "\n",
        "$\\mathbb{R}$ unit vector: $\\hat{i} = \\begin{bmatrix} 1 \\end{bmatrix}$\n",
        "\n",
        "\n",
        "$\\mathbb{R}^2$ unit vectors: $\\hat{i} = \\begin{bmatrix} 1 \\\\ 0 \\end{bmatrix}$, $\\hat{j} = \\begin{bmatrix} 0 \\\\ 1 \\end{bmatrix}$\n",
        "\n",
        "$\\mathbb{R}^3$ unit vectors: $\\hat{i} = \\begin{bmatrix} 1 \\\\ 0 \\\\ 0 \\end{bmatrix}$, $\\hat{j} = \\begin{bmatrix} 0 \\\\ 1 \\\\ 0 \\end{bmatrix}$,  $\\hat{k} = \\begin{bmatrix} 0 \\\\ 0 \\\\ 1 \\end{bmatrix}$\n",
        "\n",
        "You'll notice that in the corresponding space, these basis vectors are the rows/columns of the identity matrix.\n",
        "\n",
        "### Vectors as linear combinations of scalars and unit vectors\n",
        "\n",
        "Any vector (or matrix) can be be described in terms of a linear combination of scaled unit vectors. \n",
        "\n",
        "Example:\n",
        "\n",
        "\\begin{align}\n",
        "c = \\begin{bmatrix} 2 \\\\ 3 \\end{bmatrix} = 2\\begin{bmatrix} 1 \\\\ 0 \\end{bmatrix} + 3\\begin{bmatrix} 0 \\\\ 1 \\end{bmatrix} = 2\\hat{i} + 3\\hat{j}\n",
        "\\end{align}"
      ]
    },
    {
      "cell_type": "markdown",
      "metadata": {
        "id": "uyziZdThPILV",
        "colab_type": "text"
      },
      "source": [
        "## Student should be able to identify the space spanned by multiple vectors by learning to identify linearly dependent vectors in both their graphical and numeric representations"
      ]
    },
    {
      "cell_type": "code",
      "metadata": {
        "id": "_A_ujS_-W9N7",
        "colab_type": "code",
        "colab": {
          "base_uri": "https://localhost:8080/",
          "height": 281
        },
        "outputId": "0e115894-a0fa-4b7b-8df6-9da7521b0738"
      },
      "source": [
        "# Linearly Dependent Vectors\n",
        "ld1 = [1, 1]\n",
        "ld2 = [2, 2]\n",
        "\n",
        "lid1 = [1,2]\n",
        "lid2 = [1,3]\n",
        "\n",
        "# Plot the Linearly Dependent Vectors\n",
        "plt.arrow(0,0, ld1[0], ld1[1],head_width=.05, head_length=0.05, color ='red')\n",
        "plt.arrow(0,0, ld2[0], ld2[1],head_width=.05, head_length=0.05, color ='green')\n",
        "plt.xlim(0,3)          \n",
        "plt.ylim(0,3)\n",
        "plt.title(\"Linearly Dependent\")\n",
        "plt.show()"
      ],
      "execution_count": 12,
      "outputs": [
        {
          "output_type": "display_data",
          "data": {
            "image/png": "[encoded data removed]",
            "text/plain": [
              "<Figure size 432x288 with 1 Axes>"
            ]
          },
          "metadata": {
            "tags": []
          }
        }
      ]
    },
    {
      "cell_type": "code",
      "metadata": {
        "id": "dqdBY4YoXGPs",
        "colab_type": "code",
        "colab": {
          "base_uri": "https://localhost:8080/",
          "height": 281
        },
        "outputId": "f092cb1a-6989-47e7-bb4e-1942bef3b80f"
      },
      "source": [
        "# Plot the Linearly independent Vectors\n",
        "plt.arrow(0,0, lid1[0], lid1[1],head_width=.05, head_length=0.05, color ='red')\n",
        "plt.arrow(0,0, lid2[0], lid2[1],head_width=.05, head_length=0.05, color ='green')\n",
        "plt.xlim(0,1.5)          \n",
        "plt.ylim(0,4)\n",
        "plt.title(\"Linearly independent\")\n",
        "plt.show()"
      ],
      "execution_count": 15,
      "outputs": [
        {
          "output_type": "display_data",
          "data": {
            "image/png": "[encoded data removed]",
            "text/plain": [
              "<Figure size 432x288 with 1 Axes>"
            ]
          },
          "metadata": {
            "tags": []
          }
        }
      ]
    },
    {
      "cell_type": "markdown",
      "metadata": {
        "id": "tmJRxC36PRl2",
        "colab_type": "text"
      },
      "source": [
        "<sub>*From Michael Bundick's 'Linear Algebra Cheat Sheet'*<sub/>\n",
        "### Span\n",
        "\n",
        "The span is the set of all possible vectors that can be created with a linear combination of vectors. \n",
        "\n",
        "### Linearly Dependent Vectors\n",
        "\n",
        "Two or more vectors that live on the same line are linearly dependent. This means that there is no linear combination that will create a vector that lies outside of that line. In this case, the span of these vectors is the line that they lie on.\n",
        "\n",
        "### Linearly Independent Vectors\n",
        "\n",
        "Linearly independent vectors are vectors that don't lie on the same line as each other. If two vectors are linearly independent, then there ought to be some linear combination of them that could represent any vector in the space."
      ]
    },
    {
      "cell_type": "markdown",
      "metadata": {
        "id": "-qe0wSRCPR4Q",
        "colab_type": "text"
      },
      "source": [
        "## Student should be able to calculate the rank of a matrix and use it to determine the span and basis for the vectors that the matrix is composed of"
      ]
    },
    {
      "cell_type": "markdown",
      "metadata": {
        "id": "H3oBEEttPR7L",
        "colab_type": "text"
      },
      "source": [
        "<sub>*From Michael Bundick's 'Linear Algebra Cheat Sheet'*<sub/>\n",
        "### Rank\n",
        "\n",
        "The rank of a matrix is the dimension of the vector space spanned by its columns. Just because a matrix has a certain number of rows or columns (dimensionality) doesn't neccessarily mean that it will span that dimensional space. Sometimes there exists a sort of redundancy within the rows/columns of a matrix (linear dependence) that becomes apparent when we reduce a matrix to row-echelon form via Gaussian Elimination.\n",
        "  \n",
        "### Basis\n",
        "\n",
        "The basis of a vector space $V$ is a set of vectors that are linearly independent and that span the vector space $V$. A set of vectors spans a space if their linear combinations fill the space.\n",
        "\n",
        "## Orthogonal Basis\n",
        "\n",
        "An orthogonal basis is a set of vectors that are linearly independent, span the vector space, and are orthogonal to each other.\n",
        "\n",
        "## Orthonormal Basis\n",
        "\n",
        "An orthonormal basis is a set of vectors that are linearly independent, span the vector space, are orthogonal to eachother and each have unit length. \n",
        "\n",
        "The unit vectors form an orthonormal basis for whatever vector space that they are spanning."
      ]
    },
    {
      "cell_type": "markdown",
      "metadata": {
        "id": "TzfCjxIMPR9_",
        "colab_type": "text"
      },
      "source": [
        "## Student should be able to Recognize high dimensionality data, and can employ PCA to improve model performance"
      ]
    },
    {
      "cell_type": "markdown",
      "metadata": {
        "id": "XIaY-Wk9PSAc",
        "colab_type": "text"
      },
      "source": [
        "<sub>*From Michael Bundick's 'Linear Algebra Cheat Sheet'*<sub/>\n",
        "\n",
        "###Vector Transformations and Dimensionality Reduction\n",
        "\n",
        "**Linear Transformation** - A mapping $V \\rightarrow W$ between two modules (including vector spaces) that preserves the operations of addition and scalar multiplication. Requirements:\n",
        "1.   T(u + v) = T(u) + T(v)\n",
        "2.   T(cu) = cT(u)\n",
        "\n",
        "**Eigenvector** - Any vector that doesn't change its orientation during a given transformation. An eigenvector may still be scaled by a scalar.\n",
        "\n",
        "**Eigenvalue** - The scalar that represents how a corresponding eigenvector was scaled during a transformation. Eigenvectors and eigenvalues always come in pairs.\n",
        "\n",
        "**[Curse of Dimensionality](https://en.wikipedia.org/wiki/Curse_of_dimensionality)** - A term that is used to refer to some of the challenges and limitations that arise from trying to process or model datasets with a large number of features (often hundreds or thousands). When the dimensionality increases, the volume of the space increases so fast that the available data become sparse, requiring more data to determine statistical signifigance or find relationships, while increasing the computational load."
      ]
    },
    {
      "cell_type": "markdown",
      "metadata": {
        "id": "D5fhYZJXYlj7",
        "colab_type": "text"
      },
      "source": [
        "###Dimensionality Reduction Techniques\n",
        "\n",
        "**Feature Selection** - Selecting a subset of the most influential features.\n",
        "\n",
        "**Feature Extraction** - Create a new, smaller subset that captures the most influential information"
      ]
    },
    {
      "cell_type": "markdown",
      "metadata": {
        "id": "gyU_YnHNYmzD",
        "colab_type": "text"
      },
      "source": [
        "###Principle Component Analysis (PCA)\n",
        "\n",
        "**Principle Component Analysis** - A feature extraction technique that transforms a high dimensional dataset into a new lower dimensional dataset while preserving the maximum amount of information from the original data.\n",
        "\n",
        "**PCA Process**\n",
        "1.   Separate the data into X (features) and y (target) variables\n",
        "2.   Center each column at 0 by subtracting its mean\n",
        "3.   Divide each column by its standard deviation to get Z\n",
        "4.   Calculate the variance-covariance matrix of Z\n",
        "5.   Calculate the eigenvectors and eigenvalues of the variance-covariance matrix\n",
        "6.   Sort the eigenvalue and eigenvector pairs\n",
        "7.   Use a matrix transformation to project datapoints onto our eigenvector subspace\n",
        "\n"
      ]
    },
    {
      "cell_type": "code",
      "metadata": {
        "id": "Sw1r5LbKYq1G",
        "colab_type": "code",
        "colab": {}
      },
      "source": [
        "# code taken from Michael Bundick's 'Linear algebra cheatsheat'\n",
        "from sklearn.prepocessing import StandardScaler\n",
        "from sklearn.decomposition import PCA\n",
        "\n",
        "scaler = StandardScaler()\n",
        "scaler.fit(df)\n",
        "scaled = pd.DataFrame(scaler.transform(df))\n",
        "pca = PCA(2) #number of Principle Components to reduce to\n",
        "pca.fit(scaled)\n",
        "pca_df = pd.DataFrame(pca.transform(scaled), columns=['PC 1', 'PC 2'])"
      ],
      "execution_count": 0,
      "outputs": []
    },
    {
      "cell_type": "markdown",
      "metadata": {
        "id": "ImbZ71AqPSDI",
        "colab_type": "text"
      },
      "source": [
        "## Student should be able to Understand the limitations that come with projecting data onto an eigenvector subspace"
      ]
    },
    {
      "cell_type": "markdown",
      "metadata": {
        "id": "DG7MqUvIPSFV",
        "colab_type": "text"
      },
      "source": [
        "Any time data is projected into a lower dimention, you lose some percentage of varience in your data. If a shadow of a 3D hand is projected on a wall, you can tell it is a hand, but you cannot see the scars on the hand or the finger prints."
      ]
    },
    {
      "cell_type": "markdown",
      "metadata": {
        "id": "dqiAuOc8PdSM",
        "colab_type": "text"
      },
      "source": [
        "## Student should be able to Recognize when unsupervised learning is necessary, and select and apply appropriate clustering techniques"
      ]
    },
    {
      "cell_type": "markdown",
      "metadata": {
        "id": "1F9lHB7HPdV6",
        "colab_type": "text"
      },
      "source": [
        ""
      ]
    },
    {
      "cell_type": "markdown",
      "metadata": {
        "id": "TpCv6FbPPdZG",
        "colab_type": "text"
      },
      "source": [
        "## Student should be able to Use K-Means clustering and other centroid-based clustering algorithms"
      ]
    },
    {
      "cell_type": "markdown",
      "metadata": {
        "id": "M8ufVrMUPdbM",
        "colab_type": "text"
      },
      "source": [
        ""
      ]
    }
  ]
}